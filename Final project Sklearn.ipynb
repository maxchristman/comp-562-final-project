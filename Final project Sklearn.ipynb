{
 "cells": [
  {
   "cell_type": "code",
   "execution_count": 4,
   "id": "0997cf7b",
   "metadata": {},
   "outputs": [],
   "source": [
    "import pandas as pd\n",
    "import matplotlib.pyplot as plt\n",
    "from sklearn.feature_extraction.text import CountVectorizer\n",
    "import numpy as np\n",
    "import os\n",
    "import re\n",
    "import shutil\n",
    "import string"
   ]
  },
  {
   "cell_type": "code",
   "execution_count": 5,
   "id": "3f2cbba3",
   "metadata": {},
   "outputs": [],
   "source": [
    "#import data\n",
    "features = pd.read_csv('nbme-score-clinical-patient-notes/features.csv')\n",
    "patient_notes =pd.read_csv('nbme-score-clinical-patient-notes/patient_notes.csv')\n",
    "sample_submission = pd.read_csv('nbme-score-clinical-patient-notes/sample_submission.csv')\n",
    "test = pd.read_csv('nbme-score-clinical-patient-notes/test.csv')\n",
    "train =pd.read_csv('nbme-score-clinical-patient-notes/train.csv')"
   ]
  },
  {
   "cell_type": "code",
   "execution_count": 6,
   "id": "44a07b2f",
   "metadata": {},
   "outputs": [
    {
     "data": {
      "text/html": [
       "<div>\n",
       "<style scoped>\n",
       "    .dataframe tbody tr th:only-of-type {\n",
       "        vertical-align: middle;\n",
       "    }\n",
       "\n",
       "    .dataframe tbody tr th {\n",
       "        vertical-align: top;\n",
       "    }\n",
       "\n",
       "    .dataframe thead th {\n",
       "        text-align: right;\n",
       "    }\n",
       "</style>\n",
       "<table border=\"1\" class=\"dataframe\">\n",
       "  <thead>\n",
       "    <tr style=\"text-align: right;\">\n",
       "      <th></th>\n",
       "      <th>id</th>\n",
       "      <th>case_num_x</th>\n",
       "      <th>pn_num</th>\n",
       "      <th>feature_num</th>\n",
       "      <th>annotation</th>\n",
       "      <th>location</th>\n",
       "      <th>case_num_y</th>\n",
       "      <th>pn_history</th>\n",
       "    </tr>\n",
       "  </thead>\n",
       "  <tbody>\n",
       "    <tr>\n",
       "      <th>0</th>\n",
       "      <td>00016_000</td>\n",
       "      <td>0</td>\n",
       "      <td>16</td>\n",
       "      <td>0</td>\n",
       "      <td>['dad with recent heart attcak']</td>\n",
       "      <td>['696 724']</td>\n",
       "      <td>0</td>\n",
       "      <td>HPI: 17yo M presents with palpitations. Patien...</td>\n",
       "    </tr>\n",
       "    <tr>\n",
       "      <th>1</th>\n",
       "      <td>00016_001</td>\n",
       "      <td>0</td>\n",
       "      <td>16</td>\n",
       "      <td>1</td>\n",
       "      <td>['mom with \"thyroid disease']</td>\n",
       "      <td>['668 693']</td>\n",
       "      <td>0</td>\n",
       "      <td>HPI: 17yo M presents with palpitations. Patien...</td>\n",
       "    </tr>\n",
       "    <tr>\n",
       "      <th>2</th>\n",
       "      <td>00016_002</td>\n",
       "      <td>0</td>\n",
       "      <td>16</td>\n",
       "      <td>2</td>\n",
       "      <td>['chest pressure']</td>\n",
       "      <td>['203 217']</td>\n",
       "      <td>0</td>\n",
       "      <td>HPI: 17yo M presents with palpitations. Patien...</td>\n",
       "    </tr>\n",
       "    <tr>\n",
       "      <th>3</th>\n",
       "      <td>00016_003</td>\n",
       "      <td>0</td>\n",
       "      <td>16</td>\n",
       "      <td>3</td>\n",
       "      <td>['intermittent episodes', 'episode']</td>\n",
       "      <td>['70 91', '176 183']</td>\n",
       "      <td>0</td>\n",
       "      <td>HPI: 17yo M presents with palpitations. Patien...</td>\n",
       "    </tr>\n",
       "    <tr>\n",
       "      <th>4</th>\n",
       "      <td>00016_004</td>\n",
       "      <td>0</td>\n",
       "      <td>16</td>\n",
       "      <td>4</td>\n",
       "      <td>['felt as if he were going to pass out']</td>\n",
       "      <td>['222 258']</td>\n",
       "      <td>0</td>\n",
       "      <td>HPI: 17yo M presents with palpitations. Patien...</td>\n",
       "    </tr>\n",
       "    <tr>\n",
       "      <th>...</th>\n",
       "      <td>...</td>\n",
       "      <td>...</td>\n",
       "      <td>...</td>\n",
       "      <td>...</td>\n",
       "      <td>...</td>\n",
       "      <td>...</td>\n",
       "      <td>...</td>\n",
       "      <td>...</td>\n",
       "    </tr>\n",
       "    <tr>\n",
       "      <th>14295</th>\n",
       "      <td>95333_912</td>\n",
       "      <td>9</td>\n",
       "      <td>95333</td>\n",
       "      <td>912</td>\n",
       "      <td>[]</td>\n",
       "      <td>[]</td>\n",
       "      <td>9</td>\n",
       "      <td>Stephanie madden is a 20 year old woman compla...</td>\n",
       "    </tr>\n",
       "    <tr>\n",
       "      <th>14296</th>\n",
       "      <td>95333_913</td>\n",
       "      <td>9</td>\n",
       "      <td>95333</td>\n",
       "      <td>913</td>\n",
       "      <td>[]</td>\n",
       "      <td>[]</td>\n",
       "      <td>9</td>\n",
       "      <td>Stephanie madden is a 20 year old woman compla...</td>\n",
       "    </tr>\n",
       "    <tr>\n",
       "      <th>14297</th>\n",
       "      <td>95333_914</td>\n",
       "      <td>9</td>\n",
       "      <td>95333</td>\n",
       "      <td>914</td>\n",
       "      <td>['photobia']</td>\n",
       "      <td>['274 282']</td>\n",
       "      <td>9</td>\n",
       "      <td>Stephanie madden is a 20 year old woman compla...</td>\n",
       "    </tr>\n",
       "    <tr>\n",
       "      <th>14298</th>\n",
       "      <td>95333_915</td>\n",
       "      <td>9</td>\n",
       "      <td>95333</td>\n",
       "      <td>915</td>\n",
       "      <td>['no sick contacts']</td>\n",
       "      <td>['421 437']</td>\n",
       "      <td>9</td>\n",
       "      <td>Stephanie madden is a 20 year old woman compla...</td>\n",
       "    </tr>\n",
       "    <tr>\n",
       "      <th>14299</th>\n",
       "      <td>95333_916</td>\n",
       "      <td>9</td>\n",
       "      <td>95333</td>\n",
       "      <td>916</td>\n",
       "      <td>['Subjective fever']</td>\n",
       "      <td>['314 330']</td>\n",
       "      <td>9</td>\n",
       "      <td>Stephanie madden is a 20 year old woman compla...</td>\n",
       "    </tr>\n",
       "  </tbody>\n",
       "</table>\n",
       "<p>14300 rows × 8 columns</p>\n",
       "</div>"
      ],
      "text/plain": [
       "              id  case_num_x  pn_num  feature_num  \\\n",
       "0      00016_000           0      16            0   \n",
       "1      00016_001           0      16            1   \n",
       "2      00016_002           0      16            2   \n",
       "3      00016_003           0      16            3   \n",
       "4      00016_004           0      16            4   \n",
       "...          ...         ...     ...          ...   \n",
       "14295  95333_912           9   95333          912   \n",
       "14296  95333_913           9   95333          913   \n",
       "14297  95333_914           9   95333          914   \n",
       "14298  95333_915           9   95333          915   \n",
       "14299  95333_916           9   95333          916   \n",
       "\n",
       "                                     annotation              location  \\\n",
       "0              ['dad with recent heart attcak']           ['696 724']   \n",
       "1                 ['mom with \"thyroid disease']           ['668 693']   \n",
       "2                            ['chest pressure']           ['203 217']   \n",
       "3          ['intermittent episodes', 'episode']  ['70 91', '176 183']   \n",
       "4      ['felt as if he were going to pass out']           ['222 258']   \n",
       "...                                         ...                   ...   \n",
       "14295                                        []                    []   \n",
       "14296                                        []                    []   \n",
       "14297                              ['photobia']           ['274 282']   \n",
       "14298                      ['no sick contacts']           ['421 437']   \n",
       "14299                      ['Subjective fever']           ['314 330']   \n",
       "\n",
       "       case_num_y                                         pn_history  \n",
       "0               0  HPI: 17yo M presents with palpitations. Patien...  \n",
       "1               0  HPI: 17yo M presents with palpitations. Patien...  \n",
       "2               0  HPI: 17yo M presents with palpitations. Patien...  \n",
       "3               0  HPI: 17yo M presents with palpitations. Patien...  \n",
       "4               0  HPI: 17yo M presents with palpitations. Patien...  \n",
       "...           ...                                                ...  \n",
       "14295           9  Stephanie madden is a 20 year old woman compla...  \n",
       "14296           9  Stephanie madden is a 20 year old woman compla...  \n",
       "14297           9  Stephanie madden is a 20 year old woman compla...  \n",
       "14298           9  Stephanie madden is a 20 year old woman compla...  \n",
       "14299           9  Stephanie madden is a 20 year old woman compla...  \n",
       "\n",
       "[14300 rows x 8 columns]"
      ]
     },
     "execution_count": 6,
     "metadata": {},
     "output_type": "execute_result"
    }
   ],
   "source": [
    "#creating merged train data\n",
    "merged = pd.merge(train,patient_notes, on = 'pn_num')\n",
    "trainData = merged\n",
    "trainData"
   ]
  },
  {
   "cell_type": "code",
   "execution_count": 7,
   "id": "e05e9ba2",
   "metadata": {},
   "outputs": [],
   "source": [
    "#tensor flow trial\n",
    "def custom_standardization(input_data):\n",
    "    lowercase = tf.strings.lower(input_data)\n",
    "    stripped_html = tf.strings.regex_replace(lowercase, '\\r\\n' , ' ')\n",
    "    return tf.strings.regex_replace(stripped_html,\n",
    "                                  '[%s]' % re.escape(string.punctuation),\n",
    "                                  '')"
   ]
  },
  {
   "cell_type": "code",
   "execution_count": 8,
   "id": "a77fee7b",
   "metadata": {},
   "outputs": [],
   "source": [
    "def text_standardization(text):\n",
    "    # tokenize the text by replacing punctuation and numbers with spaces and lowercase all words\n",
    "    punc_list = string.punctuation\n",
    "    t = str.maketrans(dict.fromkeys(punc_list, \"\"))\n",
    "    text = text.lower()\n",
    "    #text = text.replace('\\r\\n' , ' ')\n",
    "    text = text.translate(t)\n",
    "    return text"
   ]
  },
  {
   "cell_type": "code",
   "execution_count": 9,
   "id": "e79905e6",
   "metadata": {},
   "outputs": [
    {
     "data": {
      "text/plain": [
       "'HPI: 17yo M presents with palpitations. Patient reports 3-4 months of intermittent episodes of \"heart beating/pounding out of my chest.\" 2 days ago during a soccer game had an episode, but this time had chest pressure and felt as if he were going to pass out (did not lose conciousness). Of note patient endorses abusing adderall, primarily to study (1-3 times per week). Before recent soccer game, took adderrall night before and morning of game. Denies shortness of breath, diaphoresis, fevers, chills, headache, fatigue, changes in sleep, changes in vision/hearing, abdominal paun, changes in bowel or urinary habits. \\r\\nPMHx: none\\r\\nRx: uses friends adderrall\\r\\nFHx: mom with \"thyroid disease,\" dad with recent heart attcak\\r\\nAll: none\\r\\nImmunizations: up to date\\r\\nSHx: Freshmen in college. Endorses 3-4 drinks 3 nights / week (on weekends), denies tabacco, endorses trying marijuana. Sexually active with girlfriend x 1 year, uses condoms'"
      ]
     },
     "execution_count": 9,
     "metadata": {},
     "output_type": "execute_result"
    }
   ],
   "source": [
    "trainData['pn_history'][0]"
   ]
  },
  {
   "cell_type": "code",
   "execution_count": 10,
   "id": "46d0f95b",
   "metadata": {},
   "outputs": [],
   "source": [
    "##developing text standardization code\n",
    "\n",
    "# lowercase = tf.strings.lower(trainData['pn_history'][0])\n",
    "# stripped_html = tf.strings.regex_replace(lowercase, '\\r\\n' , ' ')\n",
    "# final = tf.strings.regex_replace(stripped_html,'[%s]' % re.escape(string.punctuation),'')\n",
    "# final\n",
    "\n",
    "#print(string.punctuation)\n",
    "# lowercase = trainData['pn_history'][0].lower()\n",
    "# stripped_html = lowercase.replace('\\r\\n' , ' ')\n",
    "# punc_list = string.punctuation\n",
    "\n",
    "# t = str.maketrans(dict.fromkeys(punc_list, \"\"))\n",
    "# text = stripped_html.translate(t)\n",
    "# #text = text.split()\n",
    "# text\n",
    "\n",
    "#testing\n",
    "# cleanedText = custom_standardization(trainData['pn_history'][0])\n",
    "# cleanedText"
   ]
  },
  {
   "cell_type": "code",
   "execution_count": null,
   "id": "9e135a26",
   "metadata": {},
   "outputs": [],
   "source": []
  },
  {
   "cell_type": "code",
   "execution_count": null,
   "id": "35eb8d94",
   "metadata": {},
   "outputs": [],
   "source": []
  },
  {
   "cell_type": "code",
   "execution_count": 26,
   "id": "53d84ca8",
   "metadata": {},
   "outputs": [
    {
     "data": {
      "text/plain": [
       "['hpi 17yo m presents with palpitations patient reports 34 months of intermittent episodes of heart beatingpounding out of my chest 2 days ago during a soccer game had an episode but this time had chest pressure and felt as if he were going to pass out did not lose conciousness of note patient endorses abusing adderall primarily to study 13 times per week before recent soccer game took adderrall night before and morning of game denies shortness of breath diaphoresis fevers chills headache fatigue changes in sleep changes in visionhearing abdominal paun changes in bowel or urinary habits  pmhx none rx uses friends adderrall fhx mom with thyroid disease dad with recent heart attcak all none immunizations up to date shx freshmen in college endorses 34 drinks 3 nights  week on weekends denies tabacco endorses trying marijuana sexually active with girlfriend x 1 year uses condoms']"
      ]
     },
     "execution_count": 26,
     "metadata": {},
     "output_type": "execute_result"
    }
   ],
   "source": [
    "text = [text_standardization(trainData['pn_history'][0])]\n",
    "text"
   ]
  },
  {
   "cell_type": "code",
   "execution_count": 27,
   "id": "53402a2e",
   "metadata": {},
   "outputs": [],
   "source": [
    "# text =text.split()\n",
    "# text"
   ]
  },
  {
   "cell_type": "code",
   "execution_count": 28,
   "id": "18187648",
   "metadata": {},
   "outputs": [
    {
     "data": {
      "text/plain": [
       "(1, 106)"
      ]
     },
     "execution_count": 28,
     "metadata": {},
     "output_type": "execute_result"
    }
   ],
   "source": [
    "count_vect = CountVectorizer()\n",
    "X_train_counts = count_vect.fit_transform(text)\n",
    "X_train_counts.shape"
   ]
  },
  {
   "cell_type": "code",
   "execution_count": 29,
   "id": "b9fe7dde",
   "metadata": {},
   "outputs": [],
   "source": [
    "#text"
   ]
  },
  {
   "cell_type": "code",
   "execution_count": 30,
   "id": "0423d6f0",
   "metadata": {},
   "outputs": [
    {
     "data": {
      "text/plain": [
       "<1x106 sparse matrix of type '<class 'numpy.int64'>'\n",
       "\twith 106 stored elements in Compressed Sparse Row format>"
      ]
     },
     "execution_count": 30,
     "metadata": {},
     "output_type": "execute_result"
    }
   ],
   "source": [
    "X_train_counts"
   ]
  },
  {
   "cell_type": "code",
   "execution_count": 31,
   "id": "6ce9be84",
   "metadata": {},
   "outputs": [
    {
     "data": {
      "text/plain": [
       "1"
      ]
     },
     "execution_count": 31,
     "metadata": {},
     "output_type": "execute_result"
    }
   ],
   "source": [
    "count_vect.vocabulary_.get(u'17yo')"
   ]
  },
  {
   "cell_type": "code",
   "execution_count": 33,
   "id": "5c107e1f",
   "metadata": {},
   "outputs": [
    {
     "data": {
      "text/plain": [
       "array([[1, 1, 2, 1, 1, 1, 1, 2, 1, 1, 1, 2, 1, 1, 1, 2, 1, 1, 1, 3, 2, 1,\n",
       "        1, 1, 1, 1, 1, 1, 2, 1, 1, 1, 1, 1, 3, 1, 1, 1, 1, 1, 1, 1, 1, 3,\n",
       "        1, 1, 1, 2, 1, 1, 2, 1, 1, 1, 4, 1, 1, 1, 1, 1, 1, 1, 1, 1, 2, 1,\n",
       "        1, 6, 1, 1, 2, 1, 1, 2, 1, 1, 1, 1, 1, 1, 2, 1, 1, 1, 1, 1, 1, 2,\n",
       "        1, 1, 1, 1, 1, 1, 3, 1, 1, 1, 1, 2, 1, 2, 1, 1, 4, 1]])"
      ]
     },
     "execution_count": 33,
     "metadata": {},
     "output_type": "execute_result"
    }
   ],
   "source": [
    "xarray = X_train_counts.toarray()\n",
    "xarray"
   ]
  },
  {
   "cell_type": "code",
   "execution_count": 38,
   "id": "75f97fa4",
   "metadata": {},
   "outputs": [
    {
     "name": "stdout",
     "output_type": "stream",
     "text": [
      "  (0, 51)\t1\n",
      "  (0, 1)\t1\n",
      "  (0, 77)\t1\n",
      "  (0, 104)\t4\n",
      "  (0, 71)\t1\n",
      "  (0, 73)\t2\n",
      "  (0, 81)\t1\n",
      "  (0, 2)\t2\n",
      "  (0, 59)\t1\n",
      "  (0, 67)\t6\n",
      "  (0, 55)\t1\n",
      "  (0, 36)\t1\n",
      "  (0, 50)\t2\n",
      "  (0, 14)\t1\n",
      "  (0, 70)\t2\n",
      "  (0, 61)\t1\n",
      "  (0, 20)\t2\n",
      "  (0, 27)\t1\n",
      "  (0, 8)\t1\n",
      "  (0, 33)\t1\n",
      "  (0, 87)\t2\n",
      "  (0, 43)\t3\n",
      "  (0, 47)\t2\n",
      "  (0, 10)\t1\n",
      "  (0, 35)\t1\n",
      "  :\t:\n",
      "  (0, 40)\t1\n",
      "  (0, 58)\t1\n",
      "  (0, 91)\t1\n",
      "  (0, 31)\t1\n",
      "  (0, 25)\t1\n",
      "  (0, 13)\t1\n",
      "  (0, 9)\t1\n",
      "  (0, 53)\t1\n",
      "  (0, 97)\t1\n",
      "  (0, 26)\t1\n",
      "  (0, 85)\t1\n",
      "  (0, 41)\t1\n",
      "  (0, 22)\t1\n",
      "  (0, 32)\t1\n",
      "  (0, 63)\t1\n",
      "  (0, 68)\t1\n",
      "  (0, 102)\t1\n",
      "  (0, 89)\t1\n",
      "  (0, 96)\t1\n",
      "  (0, 57)\t1\n",
      "  (0, 83)\t1\n",
      "  (0, 5)\t1\n",
      "  (0, 44)\t1\n",
      "  (0, 105)\t1\n",
      "  (0, 24)\t1\n"
     ]
    }
   ],
   "source": [
    "unique = np.array(X_train_counts)\n",
    "print(unique)"
   ]
  },
  {
   "cell_type": "code",
   "execution_count": null,
   "id": "dc1fed21",
   "metadata": {},
   "outputs": [],
   "source": []
  },
  {
   "cell_type": "code",
   "execution_count": null,
   "id": "171d9317",
   "metadata": {},
   "outputs": [],
   "source": []
  },
  {
   "cell_type": "code",
   "execution_count": null,
   "id": "39ed552c",
   "metadata": {},
   "outputs": [],
   "source": []
  }
 ],
 "metadata": {
  "kernelspec": {
   "display_name": "Python 3",
   "language": "python",
   "name": "python3"
  },
  "language_info": {
   "codemirror_mode": {
    "name": "ipython",
    "version": 3
   },
   "file_extension": ".py",
   "mimetype": "text/x-python",
   "name": "python",
   "nbconvert_exporter": "python",
   "pygments_lexer": "ipython3",
   "version": "3.6.10"
  }
 },
 "nbformat": 4,
 "nbformat_minor": 5
}
