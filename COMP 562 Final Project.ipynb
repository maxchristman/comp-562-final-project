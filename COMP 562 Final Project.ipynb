{
 "cells": [
  {
   "cell_type": "markdown",
   "id": "a6183c9b",
   "metadata": {},
   "source": [
    "# COMP 562 - Machine Learning Final Project\n",
    "## Plan\n",
    "\n",
    "Our goal is to distinguish between tweets which are about real disasters and those which are about fake, metaphorical, or otherwise not real ones.\n",
    "### Turning tweets into features\n",
    "\n",
    "- Start with trigrams, can tune later\n",
    "- Can consider bigrams, bag of words, or other n-grams\n",
    "- Ignore location information, at least for now\n",
    "- Almost all tweets have keywords, use as another feature\n",
    "- Make sure to process \"keyword\" values, removing special characters\n",
    "\n",
    "### Criteria for disaster\n",
    "- Meant to track if tweets are referring to ongoing disasters\n",
    "- Also includes historical events\n",
    "\n",
    "\n",
    "### Training\n",
    "- Train and validate our model on `train.csv` \n",
    "- Test by sending results to Kaggle\n",
    "\n",
    "### Random forest\n",
    "- Use Gini criterion for efficiency\n",
    "\n",
    "### Neural networks\n",
    "- Use multi-layer perceptron classifier\n",
    "- Tweak alpha values"
   ]
  },
  {
   "cell_type": "markdown",
   "id": "25fdba33",
   "metadata": {},
   "source": [
    "## Disaster tweet classification\n",
    "### Important modules"
   ]
  },
  {
   "cell_type": "code",
   "execution_count": 1,
   "id": "1f756010",
   "metadata": {},
   "outputs": [],
   "source": [
    "import numpy as np\n",
    "import pandas as pd\n",
    "import string, re"
   ]
  },
  {
   "cell_type": "markdown",
   "id": "bcd7a1c2",
   "metadata": {},
   "source": [
    "### Importing data"
   ]
  },
  {
   "cell_type": "code",
   "execution_count": 2,
   "id": "c957f4c6",
   "metadata": {},
   "outputs": [],
   "source": [
    "train_df = pd.read_csv(\"disaster-tweets/data/train.csv\")\n",
    "test_df = pd.read_csv(\"disaster-tweets/data/test.csv\")"
   ]
  },
  {
   "cell_type": "markdown",
   "id": "a47049af",
   "metadata": {},
   "source": [
    "### Finding all characters in dataset"
   ]
  },
  {
   "cell_type": "code",
   "execution_count": 3,
   "id": "4651bfbb",
   "metadata": {},
   "outputs": [],
   "source": [
    "def standardize_string(s):\n",
    "    s = s.lower()\n",
    "    s = re.sub(\"http://t\\.co/\\S+\", \"\", s)\n",
    "    return s"
   ]
  },
  {
   "cell_type": "code",
   "execution_count": 4,
   "id": "cfa81936",
   "metadata": {},
   "outputs": [
    {
     "name": "stdout",
     "output_type": "stream",
     "text": [
      "['\\n', ' ', '!', '#', '$', '%', '&', \"'\", '(', ')', '*', '+', ',', '-', '.', '/', '0', '1', '2', '3', '4', '5', '6', '7', '8', '9', ':', ';', '=', '>', '?', '@', '[', '\\\\', ']', '^', '_', '`', 'a', 'b', 'c', 'd', 'e', 'f', 'g', 'h', 'i', 'j', 'k', 'l', 'm', 'n', 'o', 'p', 'q', 'r', 's', 't', 'u', 'v', 'w', 'x', 'y', 'z', '{', '|', '}', '~', '\\x89', '\\x9d', '¡', '¢', '£', '¤', '¨', '©', 'ª', '«', '¬', '´', '¼', 'â', 'ã', 'å', 'ç', 'è', 'ê', 'ì', 'ï', 'ñ', 'ò', 'ó', '÷', 'û', 'ü']\n"
     ]
    }
   ],
   "source": [
    "all_characters = set()\n",
    "\n",
    "for tweet in train_df['text']:\n",
    "    all_characters = all_characters.union(set(standardize_string(tweet)))\n",
    "\n",
    "char_list = list(all_characters)\n",
    "char_list.sort()\n",
    "print(char_list)"
   ]
  },
  {
   "cell_type": "markdown",
   "id": "8ab8ed8c",
   "metadata": {},
   "source": [
    "### Narrowing down characters\n",
    "\n",
    "We decided that from these characters, we would only keep letters, numbers, and a few accented characters. We also kept '#' and '@' due to their importance on Twitter."
   ]
  },
  {
   "cell_type": "code",
   "execution_count": 5,
   "id": "bcc3fafa",
   "metadata": {},
   "outputs": [
    {
     "name": "stdout",
     "output_type": "stream",
     "text": [
      "['a', 'b', 'c', 'd', 'e', 'f', 'g', 'h', 'i', 'j', 'k', 'l', 'm', 'n', 'o', 'p', 'q', 'r', 's', 't', 'u', 'v', 'w', 'x', 'y', 'z', '0', '1', '2', '3', '4', '5', '6', '7', '8', '9', '#', '@', 'â', 'ã', 'å', 'ç', 'è', 'ê', 'ì', 'ï', 'ñ', 'ò', 'ó', 'ü', ' ']\n"
     ]
    }
   ],
   "source": [
    "included_chars = list(string.ascii_lowercase + string.digits) + ['#', '@', 'â', 'ã', 'å', 'ç', 'è', 'ê', 'ì', 'ï', 'ñ', 'ò', 'ó', 'ü', ' ']\n",
    "print(included_chars)"
   ]
  },
  {
   "cell_type": "markdown",
   "id": "0d0d2846",
   "metadata": {},
   "source": [
    "### Removing invalid characters\n",
    "- Try both with and without removing special characters\n",
    "- Consider skipping data points with bad characters"
   ]
  },
  {
   "cell_type": "code",
   "execution_count": 6,
   "id": "096b1aac",
   "metadata": {},
   "outputs": [],
   "source": [
    "def remove_special_characters(s):\n",
    "    for c in char_list:\n",
    "        if c not in included_chars:\n",
    "            s = s.replace(c, \"\")\n",
    "    return s\n",
    "\n",
    "def format_tweet(t):\n",
    "    # Makes lowercase\n",
    "    formatted_tweet = t.lower()\n",
    "    # Removed links\n",
    "    formatted_tweet = re.sub(\" http(s|)://t\\.co/\\S+\", \"\", formatted_tweet)\n",
    "    formatted_tweet = re.sub(\"http(s|)://t\\.co/\\S+\", \"\", formatted_tweet)\n",
    "    # Removes any special characters, other than a-z, numbers, spaces, hashtags, and @\n",
    "    formatted_tweet = remove_special_characters(formatted_tweet)\n",
    "    final_tweet_array = []\n",
    "    \n",
    "    # Removes multiple consecutive spaces\n",
    "    for i, char in enumerate(formatted_tweet):\n",
    "        if i == 0:\n",
    "            if char != ' ':\n",
    "                final_tweet_array.append(char)\n",
    "                continue\n",
    "        prev_char = formatted_tweet[i-1]\n",
    "        if char == ' ' and prev_char == ' ':\n",
    "            continue\n",
    "        final_tweet_array.append(char)\n",
    "    final_tweet = \"\".join(final_tweet_array)\n",
    "    return final_tweet"
   ]
  },
  {
   "cell_type": "code",
   "execution_count": 7,
   "id": "5496e271",
   "metadata": {},
   "outputs": [],
   "source": [
    "formatted_train_tweets = []\n",
    "for i, tweet in enumerate(train_df[\"text\"]):\n",
    "    formatted_train_tweets.append(format_tweet(tweet))\n",
    "\n",
    "formatted_test_tweets = []\n",
    "for tweet in test_df[\"text\"]:\n",
    "    formatted_test_tweets.append(format_tweet(tweet))\n",
    "    \n",
    "test_ids = test_df['id']"
   ]
  },
  {
   "cell_type": "markdown",
   "id": "dd5449f6",
   "metadata": {},
   "source": [
    "### Splitting tweets into bigrams\n",
    "\n",
    "Tweets were processed into bigram representations, which includes information about two consecutive words at a time."
   ]
  },
  {
   "cell_type": "code",
   "execution_count": 8,
   "id": "ffb957c0",
   "metadata": {},
   "outputs": [],
   "source": [
    "from sklearn.feature_extraction.text import CountVectorizer\n",
    "\n",
    "bigram_vectorizer = CountVectorizer(ngram_range=(2,2))\n",
    "bigram_train = bigram_vectorizer.fit_transform(formatted_train_tweets)\n",
    "bigram_test = bigram_vectorizer.transform(formatted_test_tweets)"
   ]
  },
  {
   "cell_type": "code",
   "execution_count": 9,
   "id": "78587c50",
   "metadata": {},
   "outputs": [],
   "source": [
    "# 1-gram no string formatting\n",
    "# array([0.55543823, 0.50891089, 0.54221388, 0.51913133, 0.68794326])\n",
    "# 1 and 2-gram, no string formatting\n",
    "# array([0.46118721, 0.45027322, 0.43412527, 0.44141069, 0.61523626])\n",
    "# 1-gram basic string formatting\n",
    "# array([0.57556936, 0.48219736, 0.5530303 , 0.51859504, 0.68586387])\n",
    "# 1 & 2-gram, basic string formatting\n",
    "# array([0.5039019 , 0.41150442, 0.41241685, 0.45823928, 0.62327416])\n",
    "# bigram only, basic string formatting\n",
    "# array([0.24096386, 0.25725095, 0.1682243 , 0.17475728, 0.31060606])"
   ]
  },
  {
   "cell_type": "markdown",
   "id": "1b25714b",
   "metadata": {},
   "source": [
    "### Random forest classifier\n",
    "#### Creating the model"
   ]
  },
  {
   "cell_type": "code",
   "execution_count": 10,
   "id": "411a5b85",
   "metadata": {},
   "outputs": [],
   "source": [
    "from sklearn.ensemble import RandomForestClassifier\n",
    "from sklearn.model_selection import GridSearchCV\n",
    "\n",
    "rf = RandomForestClassifier(n_jobs=10, max_depth=None, class_weight=\"balanced\")"
   ]
  },
  {
   "cell_type": "markdown",
   "id": "7812152d",
   "metadata": {},
   "source": [
    "#### Cross-validation"
   ]
  },
  {
   "cell_type": "code",
   "execution_count": null,
   "id": "d50555ff",
   "metadata": {},
   "outputs": [],
   "source": [
    "rf_parameters = {\n",
    "    'min_samples_split': range(2, 5),\n",
    "    'min_samples_leaf': range(1, 4),\n",
    "    'n_estimators': [50, 100, 500]\n",
    "}\n",
    "\n",
    "rf_cv = GridSearchCV(rf, rf_parameters, verbose=4, n_jobs=8)\n",
    "rf_cv.fit(bigram_train, train_df['target'])\n",
    "print(rf_cv.best_params_)\n",
    "\n",
    "# {'min_samples_leaf': 2, 'min_samples_split': 4, 'n_estimators': 500}\n",
    "# {'class_weight': 'balanced', 'max_depth': None, 'n_estimators': 500, 'min_samples_split': 2, 'min_samples_leaf': 1}"
   ]
  },
  {
   "cell_type": "code",
   "execution_count": 13,
   "id": "c95c12a6",
   "metadata": {},
   "outputs": [
    {
     "data": {
      "text/plain": [
       "RandomForestClassifier(class_weight='balanced', min_samples_leaf=2,\n",
       "                       min_samples_split=4, n_estimators=500, n_jobs=10)"
      ]
     },
     "execution_count": 13,
     "metadata": {},
     "output_type": "execute_result"
    }
   ],
   "source": [
    "rf_best = RandomForestClassifier(n_jobs=10, max_depth=None, class_weight=\"balanced\", min_samples_leaf=2, min_samples_split=4, n_estimators=500)\n",
    "rf_best.fit(bigram_train, train_df['target'])"
   ]
  },
  {
   "cell_type": "markdown",
   "id": "cc0d2941",
   "metadata": {},
   "source": [
    "Initially, we did cross-validation across maximum depth and number of estimators. However, these models all gave fairly poor accuracy. Instead, we switched to cross-validation across minimum samples for a split and minimum samples for a leaf. These hyperparameters allowed us to get better results. Through this second round of cross validation, we got the hyperparameters with the highest average accuracy as:\n",
    "\n",
    "`{'min_samples_leaf': 2, 'min_samples_split': 4, 'n_estimators': 500}`"
   ]
  },
  {
   "cell_type": "markdown",
   "id": "ebea2819",
   "metadata": {},
   "source": [
    "#### Predicting test data\n",
    "\n",
    "As the disaster tweets dataset is from a Kaggle competition, the creators chose to not make the test labels public. As such, we have the random forest model make predictions on the test data. We then submitted this data to Kaggle to get an accuracy."
   ]
  },
  {
   "cell_type": "code",
   "execution_count": 14,
   "id": "8f80cb61",
   "metadata": {},
   "outputs": [
    {
     "name": "stdout",
     "output_type": "stream",
     "text": [
      "[0 0 1 ... 1 1 1]\n"
     ]
    }
   ],
   "source": [
    "rf_predicted_classes = rf_best.predict(bigram_test)\n",
    "print(rf_predicted_classes)\n",
    "rf_out_array = []\n",
    "for i, pred_class in enumerate(rf_predicted_classes):\n",
    "    rf_out_array.append([int(test_ids[i]), pred_class])\n",
    "\n",
    "np.savetxt(\"disaster-tweets/rf-results.csv\", rf_out_array, delimiter=',', fmt='%i')"
   ]
  },
  {
   "cell_type": "markdown",
   "id": "9c579a20",
   "metadata": {},
   "source": [
    "According to Kaggle, these parameters gave an F1 score of `0.74103`."
   ]
  },
  {
   "cell_type": "markdown",
   "id": "c6747b78",
   "metadata": {},
   "source": [
    "### Multilayer perceptron classifier\n",
    "#### Creating the model"
   ]
  },
  {
   "cell_type": "code",
   "execution_count": 15,
   "id": "941f0a42",
   "metadata": {},
   "outputs": [],
   "source": [
    "from sklearn.neural_network import MLPClassifier\n",
    "\n",
    "mlpc = MLPClassifier(verbose=True, tol=.001)"
   ]
  },
  {
   "cell_type": "markdown",
   "id": "53246529",
   "metadata": {},
   "source": [
    "#### Cross-validation"
   ]
  },
  {
   "cell_type": "code",
   "execution_count": null,
   "id": "89c6a7ba",
   "metadata": {},
   "outputs": [],
   "source": [
    "mlpc_parameters = {\n",
    "    \"alpha\": [.0001, .001, .01, .1]\n",
    "}\n",
    "mlpc_cv = GridSearchCV(mlpc, mlpc_parameters, verbose=3, n_jobs=-1)\n",
    "mlpc_cv.fit(bigram_train, train_df['target'])\n",
    "print(mlpc_cv.best_params_)"
   ]
  },
  {
   "cell_type": "code",
   "execution_count": 18,
   "id": "f0b4649b",
   "metadata": {},
   "outputs": [
    {
     "name": "stdout",
     "output_type": "stream",
     "text": [
      "Iteration 1, loss = 0.64455269\n",
      "Iteration 2, loss = 0.36106995\n",
      "Iteration 3, loss = 0.15817992\n",
      "Iteration 4, loss = 0.09224516\n",
      "Iteration 5, loss = 0.06880614\n",
      "Iteration 6, loss = 0.05708070\n",
      "Iteration 7, loss = 0.05171878\n",
      "Iteration 8, loss = 0.04616030\n",
      "Iteration 9, loss = 0.04327362\n",
      "Iteration 10, loss = 0.04108837\n",
      "Iteration 11, loss = 0.03849036\n",
      "Iteration 12, loss = 0.03691752\n",
      "Iteration 13, loss = 0.03641282\n",
      "Iteration 14, loss = 0.03603631\n",
      "Iteration 15, loss = 0.03538995\n",
      "Iteration 16, loss = 0.03530517\n",
      "Iteration 17, loss = 0.03493647\n",
      "Iteration 18, loss = 0.03364997\n",
      "Iteration 19, loss = 0.03393072\n",
      "Iteration 20, loss = 0.03323351\n",
      "Iteration 21, loss = 0.03462271\n",
      "Iteration 22, loss = 0.03133024\n",
      "Iteration 23, loss = 0.03159224\n",
      "Iteration 24, loss = 0.03229673\n",
      "Iteration 25, loss = 0.03286458\n",
      "Iteration 26, loss = 0.03324324\n",
      "Iteration 27, loss = 0.03158836\n",
      "Iteration 28, loss = 0.03069116\n",
      "Iteration 29, loss = 0.03080278\n",
      "Iteration 30, loss = 0.03075475\n",
      "Iteration 31, loss = 0.03056162\n",
      "Iteration 32, loss = 0.03180790\n",
      "Iteration 33, loss = 0.03233534\n",
      "Iteration 34, loss = 0.03238519\n",
      "Iteration 35, loss = 0.03032644\n",
      "Iteration 36, loss = 0.03142376\n",
      "Iteration 37, loss = 0.03033822\n",
      "Iteration 38, loss = 0.03060792\n",
      "Iteration 39, loss = 0.03001809\n",
      "Iteration 40, loss = 0.02968678\n",
      "Iteration 41, loss = 0.03023939\n",
      "Iteration 42, loss = 0.03004576\n",
      "Iteration 43, loss = 0.02964762\n",
      "Iteration 44, loss = 0.02877275\n",
      "Iteration 45, loss = 0.03053768\n",
      "Iteration 46, loss = 0.03030407\n",
      "Iteration 47, loss = 0.02987268\n",
      "Iteration 48, loss = 0.03009683\n",
      "Iteration 49, loss = 0.03241985\n",
      "Iteration 50, loss = 0.03126683\n",
      "Iteration 51, loss = 0.03073389\n",
      "Iteration 52, loss = 0.03035961\n",
      "Iteration 53, loss = 0.03011782\n",
      "Iteration 54, loss = 0.02966027\n",
      "Iteration 55, loss = 0.02972374\n",
      "Training loss did not improve more than tol=0.000100 for 10 consecutive epochs. Stopping.\n"
     ]
    },
    {
     "data": {
      "text/plain": [
       "MLPClassifier(verbose=True)"
      ]
     },
     "execution_count": 18,
     "metadata": {},
     "output_type": "execute_result"
    }
   ],
   "source": [
    "mlpc_best = MLPClassifier(verbose=True, alpha=0.0001)\n",
    "mlpc_best.fit(bigram_train, train_df['target'])"
   ]
  },
  {
   "cell_type": "markdown",
   "id": "424a1258",
   "metadata": {},
   "source": [
    "Through cross-validation, we determined that the best value for the regularization parameter $\\alpha$ was `0.0001`."
   ]
  },
  {
   "cell_type": "markdown",
   "id": "ac7a7f07",
   "metadata": {},
   "source": [
    "#### Predicting test data"
   ]
  },
  {
   "cell_type": "code",
   "execution_count": 19,
   "id": "602abec4",
   "metadata": {},
   "outputs": [],
   "source": [
    "mlpc_predicted_classes = mlpc_best.predict(bigram_test)\n",
    "mlpc_out_array = []\n",
    "for i, pred_class in enumerate(mlpc_predicted_classes):\n",
    "    mlpc_out_array.append([int(test_ids[i]), pred_class])\n",
    "    \n",
    "np.savetxt(\"disaster-tweets/mlpc-results.csv\", mlpc_out_array, delimiter=',', fmt='%i')"
   ]
  },
  {
   "cell_type": "markdown",
   "id": "1ec83970",
   "metadata": {},
   "source": [
    "This value gave an accuracy on the test set of `0.76156`."
   ]
  },
  {
   "cell_type": "markdown",
   "id": "9e18e351",
   "metadata": {},
   "source": [
    "#### Retrying with tri-grams\n",
    "\n",
    "Due to undesirably low accuracy, we tried to train a multilayer perceptron classifier again, this time with tweet data represented as tri-grams rather than bi-grams."
   ]
  },
  {
   "cell_type": "code",
   "execution_count": null,
   "id": "50ab3e28",
   "metadata": {},
   "outputs": [],
   "source": [
    "trigram_vectorizer = CountVectorizer(ngram_range=(3,3))\n",
    "trigram_train = trigram_vectorizer.fit_transform(formatted_train_tweets)\n",
    "trigram_test = trigram_vectorizer.transform(formatted_test_tweets)\n",
    "\n",
    "mlpc_cv.fit(trigram_train, train_df['target'])\n",
    "print(mlpc_cv.best_params_)"
   ]
  },
  {
   "cell_type": "code",
   "execution_count": null,
   "id": "bfd38dc8",
   "metadata": {},
   "outputs": [],
   "source": [
    "mlpc_best = MLPClassifier(verbose=True, alpha=0.0001)\n",
    "mlpc_best.fit(trigram_train, train_df['target'])"
   ]
  },
  {
   "cell_type": "markdown",
   "id": "e55b03e8",
   "metadata": {},
   "source": [
    "Unfortunately, this actually diminished the accuracy, classifying `0.70303` of the results correctly."
   ]
  },
  {
   "cell_type": "code",
   "execution_count": null,
   "id": "81a6aee1",
   "metadata": {},
   "outputs": [],
   "source": [
    "mlpc_trigram_predicted_classes = mlpc_best.predict(trigram_test)\n",
    "mlpc_trigram_out_array = []\n",
    "for i, pred_class in enumerate(mlpc_trigram_predicted_classes):\n",
    "    mlpc_trigram_out_array.append([int(test_ids[i]), pred_class])\n",
    "    \n",
    "np.savetxt(\"disaster-tweets/mlpc-trigam-results.csv\", mlpc_trigram_out_array, delimiter=',', fmt='%i')"
   ]
  },
  {
   "cell_type": "markdown",
   "id": "0de92e1f",
   "metadata": {},
   "source": [
    "## Humor detection\n",
    "\n",
    "After manual inspection and additional research on the disaster tweets dataset, we determined that the dataset itself was low quality, i.e. a number of the tweets were labeled incorrectly or did not in fact refer to a disaster of any kind. Instead, we decided to apply similar natural language techniques to another dataset. We found a dataset of 200,000 short passages of text (similar to tweets) which are labeled as either having humor or not having humor. Others' work on Kaggle gave us the impression that this dataset is high quality. We then proceeded much as before on this dataset.\n",
    "\n",
    "### Important modules"
   ]
  },
  {
   "cell_type": "code",
   "execution_count": 20,
   "id": "510e6ed1",
   "metadata": {},
   "outputs": [],
   "source": [
    "import numpy as np\n",
    "import pandas as pd"
   ]
  },
  {
   "cell_type": "markdown",
   "id": "5032d477",
   "metadata": {},
   "source": [
    "### Importing data\n",
    "\n",
    "We decided to train on only 10 percent of the data, as there are 200,000 data points. Training on, for example, 60 percent of the data would take prohibitively long (more than 10 minutes for one fit). However, evaluation time is more reasonable than training time, so we can still test on the remaining 90 percent of the data."
   ]
  },
  {
   "cell_type": "code",
   "execution_count": 21,
   "id": "b4daf154",
   "metadata": {},
   "outputs": [],
   "source": [
    "from sklearn.model_selection import train_test_split\n",
    "\n",
    "all_text = pd.read_csv(\"humor-dataset.csv\")[\"text\"]\n",
    "all_humor = pd.read_csv(\"humor-dataset.csv\")[\"humor\"]\n",
    "\n",
    "text_train, text_test, humor_train, humor_test = train_test_split(all_text, all_humor, train_size=.1)"
   ]
  },
  {
   "cell_type": "markdown",
   "id": "a15e9452",
   "metadata": {},
   "source": [
    "### Making bi-grams"
   ]
  },
  {
   "cell_type": "code",
   "execution_count": 22,
   "id": "dedf7689",
   "metadata": {},
   "outputs": [],
   "source": [
    "from sklearn.feature_extraction.text import CountVectorizer\n",
    "\n",
    "bigram_vectorizer = CountVectorizer(ngram_range=(2,2))\n",
    "bigram_train = bigram_vectorizer.fit_transform(text_train)\n",
    "bigram_test = bigram_vectorizer.transform(text_test)"
   ]
  },
  {
   "cell_type": "markdown",
   "id": "8dbc1b38",
   "metadata": {},
   "source": [
    "### Random forest classifier\n",
    "#### Making the model"
   ]
  },
  {
   "cell_type": "code",
   "execution_count": null,
   "id": "249d309f",
   "metadata": {
    "scrolled": true
   },
   "outputs": [],
   "source": [
    "from sklearn.ensemble import RandomForestClassifier\n",
    "from sklearn.model_selection import GridSearchCV\n",
    "\n",
    "rf = RandomForestClassifier(max_depth=None, class_weight=\"balanced\", n_jobs=8, verbose=3)"
   ]
  },
  {
   "cell_type": "markdown",
   "id": "34aed44e",
   "metadata": {},
   "source": [
    "#### Cross-validation"
   ]
  },
  {
   "cell_type": "code",
   "execution_count": null,
   "id": "bcff458a",
   "metadata": {},
   "outputs": [],
   "source": [
    "rf_params = {\n",
    "    'n_estimators': [50, 100, 500]\n",
    "}\n",
    "\n",
    "rf_cv = GridSearchCV(rf, rf_params, n_jobs=8, verbose=3)\n",
    "rf_cv.fit(bigram_train, humor_train)\n",
    "print(rf_cv.best_params_)"
   ]
  },
  {
   "cell_type": "code",
   "execution_count": 25,
   "id": "4ac11305",
   "metadata": {},
   "outputs": [
    {
     "name": "stderr",
     "output_type": "stream",
     "text": [
      "[Parallel(n_jobs=8)]: Using backend ThreadingBackend with 8 concurrent workers.\n"
     ]
    },
    {
     "name": "stdout",
     "output_type": "stream",
     "text": [
      "building tree 1 of 500building tree 2 of 500\n",
      "\n",
      "building tree 3 of 500building tree 4 of 500building tree 5 of 500\n",
      "\n",
      "\n",
      "building tree 6 of 500\n",
      "building tree 7 of 500building tree 8 of 500\n",
      "\n",
      "building tree 9 of 500\n",
      "building tree 10 of 500\n",
      "building tree 11 of 500\n",
      "building tree 12 of 500\n",
      "building tree 13 of 500\n",
      "building tree 14 of 500\n",
      "building tree 15 of 500\n",
      "building tree 16 of 500\n",
      "building tree 17 of 500\n",
      "building tree 18 of 500\n",
      "building tree 19 of 500\n",
      "building tree 20 of 500\n",
      "building tree 21 of 500\n",
      "building tree 22 of 500\n",
      "building tree 23 of 500\n",
      "building tree 24 of 500\n"
     ]
    },
    {
     "name": "stderr",
     "output_type": "stream",
     "text": [
      "[Parallel(n_jobs=8)]: Done  16 tasks      | elapsed:    0.7s\n"
     ]
    },
    {
     "name": "stdout",
     "output_type": "stream",
     "text": [
      "building tree 25 of 500\n",
      "building tree 26 of 500\n",
      "building tree 27 of 500\n",
      "building tree 28 of 500\n",
      "building tree 29 of 500\n",
      "building tree 30 of 500\n",
      "building tree 31 of 500\n",
      "building tree 32 of 500\n",
      "building tree 33 of 500\n",
      "building tree 34 of 500\n",
      "building tree 35 of 500\n",
      "building tree 36 of 500\n",
      "building tree 37 of 500\n",
      "building tree 38 of 500\n",
      "building tree 39 of 500\n",
      "building tree 40 of 500\n",
      "building tree 41 of 500\n",
      "building tree 42 of 500\n",
      "building tree 43 of 500\n",
      "building tree 44 of 500\n",
      "building tree 45 of 500\n",
      "building tree 46 of 500\n",
      "building tree 47 of 500\n",
      "building tree 48 of 500\n",
      "building tree 49 of 500\n",
      "building tree 50 of 500\n",
      "building tree 51 of 500\n",
      "building tree 52 of 500\n",
      "building tree 53 of 500\n",
      "building tree 54 of 500\n",
      "building tree 55 of 500\n",
      "building tree 56 of 500\n",
      "building tree 57 of 500\n",
      "building tree 58 of 500\n",
      "building tree 59 of 500\n",
      "building tree 60 of 500\n",
      "building tree 61 of 500\n",
      "building tree 62 of 500\n",
      "building tree 63 of 500\n",
      "building tree 64 of 500\n",
      "building tree 65 of 500\n",
      "building tree 66 of 500\n",
      "building tree 67 of 500\n",
      "building tree 68 of 500\n",
      "building tree 69 of 500\n",
      "building tree 70 of 500\n",
      "building tree 71 of 500\n",
      "building tree 72 of 500\n",
      "building tree 73 of 500\n",
      "building tree 74 of 500\n",
      "building tree 75 of 500\n",
      "building tree 76 of 500\n",
      "building tree 77 of 500\n",
      "building tree 78 of 500\n",
      "building tree 79 of 500\n",
      "building tree 80 of 500\n",
      "building tree 81 of 500\n",
      "building tree 82 of 500\n",
      "building tree 83 of 500\n",
      "building tree 84 of 500building tree 85 of 500\n",
      "\n",
      "building tree 86 of 500building tree 87 of 500\n",
      "\n",
      "building tree 88 of 500\n",
      "building tree 89 of 500\n",
      "building tree 90 of 500\n",
      "building tree 91 of 500\n",
      "building tree 92 of 500\n",
      "building tree 93 of 500\n",
      "building tree 94 of 500\n",
      "building tree 95 of 500\n",
      "building tree 96 of 500\n",
      "building tree 97 of 500\n",
      "building tree 98 of 500\n",
      "building tree 99 of 500\n",
      "building tree 100 of 500\n",
      "building tree 101 of 500\n",
      "building tree 102 of 500\n",
      "building tree 103 of 500\n",
      "building tree 104 of 500\n",
      "building tree 105 of 500\n",
      "building tree 106 of 500\n",
      "building tree 107 of 500\n",
      "building tree 108 of 500\n",
      "building tree 109 of 500\n",
      "building tree 110 of 500\n",
      "building tree 111 of 500\n",
      "building tree 112 of 500\n",
      "building tree 113 of 500\n",
      "building tree 114 of 500\n",
      "building tree 115 of 500\n",
      "building tree 116 of 500\n",
      "building tree 117 of 500\n",
      "building tree 118 of 500\n",
      "building tree 119 of 500\n",
      "building tree 120 of 500\n",
      "building tree 121 of 500\n",
      "building tree 122 of 500\n"
     ]
    },
    {
     "name": "stderr",
     "output_type": "stream",
     "text": [
      "[Parallel(n_jobs=8)]: Done 112 tasks      | elapsed:    5.0s\n"
     ]
    },
    {
     "name": "stdout",
     "output_type": "stream",
     "text": [
      "building tree 123 of 500\n",
      "building tree 124 of 500building tree 125 of 500\n",
      "\n",
      "building tree 126 of 500\n",
      "building tree 127 of 500\n",
      "building tree 128 of 500\n",
      "building tree 129 of 500\n",
      "building tree 130 of 500\n",
      "building tree 131 of 500\n",
      "building tree 132 of 500\n",
      "building tree 133 of 500\n",
      "building tree 134 of 500\n",
      "building tree 135 of 500\n",
      "building tree 136 of 500\n",
      "building tree 137 of 500\n",
      "building tree 138 of 500\n",
      "building tree 139 of 500\n",
      "building tree 140 of 500\n",
      "building tree 141 of 500\n",
      "building tree 142 of 500\n",
      "building tree 143 of 500\n",
      "building tree 144 of 500\n",
      "building tree 145 of 500\n",
      "building tree 146 of 500\n",
      "building tree 147 of 500\n",
      "building tree 148 of 500\n",
      "building tree 149 of 500\n",
      "building tree 150 of 500\n",
      "building tree 151 of 500\n",
      "building tree 152 of 500\n",
      "building tree 153 of 500\n",
      "building tree 154 of 500\n",
      "building tree 155 of 500\n",
      "building tree 156 of 500\n",
      "building tree 157 of 500\n",
      "building tree 158 of 500\n",
      "building tree 159 of 500\n",
      "building tree 160 of 500\n",
      "building tree 161 of 500\n",
      "building tree 162 of 500\n",
      "building tree 163 of 500\n",
      "building tree 164 of 500\n",
      "building tree 165 of 500\n",
      "building tree 166 of 500\n",
      "building tree 167 of 500\n",
      "building tree 168 of 500\n",
      "building tree 169 of 500\n",
      "building tree 170 of 500\n",
      "building tree 171 of 500\n",
      "building tree 172 of 500\n",
      "building tree 173 of 500\n",
      "building tree 174 of 500\n",
      "building tree 175 of 500\n",
      "building tree 176 of 500\n",
      "building tree 177 of 500\n",
      "building tree 178 of 500\n",
      "building tree 179 of 500\n",
      "building tree 180 of 500\n",
      "building tree 181 of 500\n",
      "building tree 182 of 500\n",
      "building tree 183 of 500\n",
      "building tree 184 of 500\n",
      "building tree 185 of 500\n",
      "building tree 186 of 500\n",
      "building tree 187 of 500\n",
      "building tree 188 of 500\n",
      "building tree 189 of 500\n",
      "building tree 190 of 500\n",
      "building tree 191 of 500\n",
      "building tree 192 of 500\n",
      "building tree 193 of 500\n",
      "building tree 194 of 500\n",
      "building tree 195 of 500\n",
      "building tree 196 of 500\n",
      "building tree 197 of 500\n",
      "building tree 198 of 500\n",
      "building tree 199 of 500\n",
      "building tree 200 of 500\n",
      "building tree 201 of 500\n",
      "building tree 202 of 500\n",
      "building tree 203 of 500\n",
      "building tree 204 of 500\n",
      "building tree 205 of 500\n",
      "building tree 206 of 500\n",
      "building tree 207 of 500\n",
      "building tree 208 of 500\n",
      "building tree 209 of 500\n",
      "building tree 210 of 500\n",
      "building tree 211 of 500\n",
      "building tree 212 of 500\n",
      "building tree 213 of 500\n",
      "building tree 214 of 500\n",
      "building tree 215 of 500\n",
      "building tree 216 of 500\n",
      "building tree 217 of 500\n",
      "building tree 218 of 500\n",
      "building tree 219 of 500\n",
      "building tree 220 of 500\n",
      "building tree 221 of 500\n",
      "building tree 222 of 500\n",
      "building tree 223 of 500\n",
      "building tree 224 of 500\n",
      "building tree 225 of 500\n",
      "building tree 226 of 500\n",
      "building tree 227 of 500\n",
      "building tree 228 of 500\n",
      "building tree 229 of 500\n",
      "building tree 230 of 500\n",
      "building tree 231 of 500\n",
      "building tree 232 of 500\n",
      "building tree 233 of 500\n",
      "building tree 234 of 500\n",
      "building tree 235 of 500\n",
      "building tree 236 of 500\n",
      "building tree 237 of 500\n",
      "building tree 238 of 500\n",
      "building tree 239 of 500\n",
      "building tree 240 of 500\n",
      "building tree 241 of 500\n",
      "building tree 242 of 500\n",
      "building tree 243 of 500\n",
      "building tree 244 of 500\n",
      "building tree 245 of 500\n",
      "building tree 246 of 500\n",
      "building tree 247 of 500\n",
      "building tree 248 of 500\n",
      "building tree 249 of 500\n",
      "building tree 250 of 500\n",
      "building tree 251 of 500\n",
      "building tree 252 of 500\n",
      "building tree 253 of 500\n",
      "building tree 254 of 500\n",
      "building tree 255 of 500\n",
      "building tree 256 of 500\n",
      "building tree 257 of 500\n",
      "building tree 258 of 500\n",
      "building tree 259 of 500\n",
      "building tree 260 of 500\n",
      "building tree 261 of 500\n",
      "building tree 262 of 500\n",
      "building tree 263 of 500\n",
      "building tree 264 of 500\n",
      "building tree 265 of 500\n",
      "building tree 266 of 500\n",
      "building tree 267 of 500\n",
      "building tree 268 of 500\n",
      "building tree 269 of 500\n",
      "building tree 270 of 500\n",
      "building tree 271 of 500\n",
      "building tree 272 of 500\n",
      "building tree 273 of 500\n",
      "building tree 274 of 500\n",
      "building tree 275 of 500\n",
      "building tree 276 of 500\n",
      "building tree 277 of 500\n",
      "building tree 278 of 500\n",
      "building tree 279 of 500\n",
      "building tree 280 of 500\n",
      "building tree 281 of 500\n",
      "building tree 282 of 500\n",
      "building tree 283 of 500\n",
      "building tree 284 of 500\n",
      "building tree 285 of 500\n",
      "building tree 286 of 500\n"
     ]
    },
    {
     "name": "stderr",
     "output_type": "stream",
     "text": [
      "[Parallel(n_jobs=8)]: Done 272 tasks      | elapsed:   11.7s\n"
     ]
    },
    {
     "name": "stdout",
     "output_type": "stream",
     "text": [
      "building tree 287 of 500\n",
      "building tree 288 of 500\n",
      "building tree 289 of 500\n",
      "building tree 290 of 500\n",
      "building tree 291 of 500\n",
      "building tree 292 of 500\n",
      "building tree 293 of 500\n",
      "building tree 294 of 500\n",
      "building tree 295 of 500\n",
      "building tree 296 of 500\n",
      "building tree 297 of 500\n",
      "building tree 298 of 500\n",
      "building tree 299 of 500\n",
      "building tree 300 of 500\n",
      "building tree 301 of 500\n",
      "building tree 302 of 500\n",
      "building tree 303 of 500building tree 304 of 500\n",
      "\n",
      "building tree 305 of 500\n",
      "building tree 306 of 500\n",
      "building tree 307 of 500\n",
      "building tree 308 of 500\n",
      "building tree 309 of 500\n",
      "building tree 310 of 500\n",
      "building tree 311 of 500\n",
      "building tree 312 of 500\n",
      "building tree 313 of 500\n",
      "building tree 314 of 500\n",
      "building tree 315 of 500\n",
      "building tree 316 of 500\n",
      "building tree 317 of 500\n",
      "building tree 318 of 500\n",
      "building tree 319 of 500\n",
      "building tree 320 of 500\n",
      "building tree 321 of 500\n",
      "building tree 322 of 500\n",
      "building tree 323 of 500\n",
      "building tree 324 of 500\n",
      "building tree 325 of 500\n",
      "building tree 326 of 500\n",
      "building tree 327 of 500\n",
      "building tree 328 of 500\n",
      "building tree 329 of 500\n",
      "building tree 330 of 500\n",
      "building tree 331 of 500\n",
      "building tree 332 of 500\n",
      "building tree 333 of 500\n",
      "building tree 334 of 500\n",
      "building tree 335 of 500\n",
      "building tree 336 of 500\n",
      "building tree 337 of 500\n",
      "building tree 338 of 500\n",
      "building tree 339 of 500\n",
      "building tree 340 of 500\n",
      "building tree 341 of 500\n",
      "building tree 342 of 500\n",
      "building tree 343 of 500\n",
      "building tree 344 of 500\n",
      "building tree 345 of 500\n",
      "building tree 346 of 500\n",
      "building tree 347 of 500\n",
      "building tree 348 of 500\n",
      "building tree 349 of 500\n",
      "building tree 350 of 500\n",
      "building tree 351 of 500\n",
      "building tree 352 of 500\n",
      "building tree 353 of 500\n",
      "building tree 354 of 500\n",
      "building tree 355 of 500\n",
      "building tree 356 of 500\n",
      "building tree 357 of 500\n",
      "building tree 358 of 500\n",
      "building tree 359 of 500\n",
      "building tree 360 of 500\n",
      "building tree 361 of 500\n",
      "building tree 362 of 500\n",
      "building tree 363 of 500\n",
      "building tree 364 of 500\n",
      "building tree 365 of 500\n",
      "building tree 366 of 500\n",
      "building tree 367 of 500\n",
      "building tree 368 of 500\n",
      "building tree 369 of 500\n",
      "building tree 370 of 500\n",
      "building tree 371 of 500\n",
      "building tree 372 of 500\n",
      "building tree 373 of 500\n",
      "building tree 374 of 500\n",
      "building tree 375 of 500\n",
      "building tree 376 of 500\n",
      "building tree 377 of 500\n",
      "building tree 378 of 500\n",
      "building tree 379 of 500\n",
      "building tree 380 of 500\n",
      "building tree 381 of 500\n",
      "building tree 382 of 500\n",
      "building tree 383 of 500\n",
      "building tree 384 of 500\n",
      "building tree 385 of 500\n",
      "building tree 386 of 500\n",
      "building tree 387 of 500\n",
      "building tree 388 of 500\n",
      "building tree 389 of 500\n",
      "building tree 390 of 500\n",
      "building tree 391 of 500\n",
      "building tree 392 of 500\n",
      "building tree 393 of 500\n",
      "building tree 394 of 500\n",
      "building tree 395 of 500\n",
      "building tree 396 of 500\n",
      "building tree 397 of 500\n",
      "building tree 398 of 500\n",
      "building tree 399 of 500\n",
      "building tree 400 of 500\n",
      "building tree 401 of 500\n",
      "building tree 402 of 500\n",
      "building tree 403 of 500\n",
      "building tree 404 of 500\n",
      "building tree 405 of 500\n",
      "building tree 406 of 500\n",
      "building tree 407 of 500\n",
      "building tree 408 of 500\n",
      "building tree 409 of 500\n",
      "building tree 410 of 500\n",
      "building tree 411 of 500\n",
      "building tree 412 of 500\n",
      "building tree 413 of 500\n",
      "building tree 414 of 500\n",
      "building tree 415 of 500\n",
      "building tree 416 of 500\n",
      "building tree 417 of 500\n",
      "building tree 418 of 500\n",
      "building tree 419 of 500\n",
      "building tree 420 of 500\n",
      "building tree 421 of 500\n",
      "building tree 422 of 500\n",
      "building tree 423 of 500\n",
      "building tree 424 of 500\n",
      "building tree 425 of 500\n",
      "building tree 426 of 500\n",
      "building tree 427 of 500\n",
      "building tree 428 of 500\n",
      "building tree 429 of 500\n",
      "building tree 430 of 500\n",
      "building tree 431 of 500\n",
      "building tree 432 of 500\n",
      "building tree 433 of 500\n",
      "building tree 434 of 500\n",
      "building tree 435 of 500\n",
      "building tree 436 of 500\n",
      "building tree 437 of 500\n",
      "building tree 438 of 500\n",
      "building tree 439 of 500\n",
      "building tree 440 of 500\n",
      "building tree 441 of 500\n",
      "building tree 442 of 500\n",
      "building tree 443 of 500\n",
      "building tree 444 of 500\n",
      "building tree 445 of 500\n",
      "building tree 446 of 500\n",
      "building tree 447 of 500\n",
      "building tree 448 of 500\n",
      "building tree 449 of 500\n",
      "building tree 450 of 500\n",
      "building tree 451 of 500\n",
      "building tree 452 of 500\n",
      "building tree 453 of 500\n",
      "building tree 454 of 500\n",
      "building tree 455 of 500\n",
      "building tree 456 of 500\n",
      "building tree 457 of 500\n",
      "building tree 458 of 500\n",
      "building tree 459 of 500\n",
      "building tree 460 of 500\n",
      "building tree 461 of 500\n",
      "building tree 462 of 500\n",
      "building tree 463 of 500\n",
      "building tree 464 of 500\n",
      "building tree 465 of 500\n",
      "building tree 466 of 500\n",
      "building tree 467 of 500\n",
      "building tree 468 of 500\n",
      "building tree 469 of 500\n",
      "building tree 470 of 500\n",
      "building tree 471 of 500\n",
      "building tree 472 of 500\n",
      "building tree 473 of 500\n",
      "building tree 474 of 500\n",
      "building tree 475 of 500\n",
      "building tree 476 of 500\n",
      "building tree 477 of 500\n",
      "building tree 478 of 500\n",
      "building tree 479 of 500\n",
      "building tree 480 of 500\n",
      "building tree 481 of 500\n",
      "building tree 482 of 500\n",
      "building tree 483 of 500\n",
      "building tree 484 of 500\n",
      "building tree 485 of 500\n",
      "building tree 486 of 500\n",
      "building tree 487 of 500\n",
      "building tree 488 of 500\n",
      "building tree 489 of 500\n",
      "building tree 490 of 500\n",
      "building tree 491 of 500\n",
      "building tree 492 of 500\n",
      "building tree 493 of 500\n",
      "building tree 494 of 500\n",
      "building tree 495 of 500\n",
      "building tree 496 of 500\n",
      "building tree 497 of 500\n",
      "building tree 498 of 500\n",
      "building tree 499 of 500\n",
      "building tree 500 of 500\n"
     ]
    },
    {
     "name": "stderr",
     "output_type": "stream",
     "text": [
      "[Parallel(n_jobs=8)]: Done 500 out of 500 | elapsed:   20.9s finished\n"
     ]
    },
    {
     "data": {
      "text/plain": [
       "RandomForestClassifier(class_weight='balanced', n_estimators=500, n_jobs=8,\n",
       "                       verbose=3)"
      ]
     },
     "execution_count": 25,
     "metadata": {},
     "output_type": "execute_result"
    }
   ],
   "source": [
    "rf_best = RandomForestClassifier(max_depth=None, class_weight=\"balanced\", n_jobs=8, verbose=3, n_estimators=500)\n",
    "rf_best.fit(bigram_train, humor_train)"
   ]
  },
  {
   "cell_type": "markdown",
   "id": "1d3d8f88",
   "metadata": {},
   "source": [
    "Cross validation yielded a best n_estimators value of `500`."
   ]
  },
  {
   "cell_type": "markdown",
   "id": "1c83a27b",
   "metadata": {},
   "source": [
    "#### Evaluation\n",
    "\n",
    "The humor dataset, unlike the disaster tweets dataset, included labels for every piece of text in the dataset. As such, we are able to directly compute accuracy/F1 scores and also to plot confusion matrices."
   ]
  },
  {
   "cell_type": "code",
   "execution_count": 26,
   "id": "f4d5f6f8",
   "metadata": {},
   "outputs": [],
   "source": [
    "from sklearn.metrics import confusion_matrix\n",
    "import seaborn as sb\n",
    "import matplotlib.pyplot as plt\n",
    "\n",
    "def get_cm(preds):\n",
    "    return confusion_matrix(humor_test, preds, labels=[False, True], normalize='all')\n",
    "\n",
    "def plot_confusion_matrix(cm, title):\n",
    "    fx = sb.heatmap(cm, annot=True, cmap='turbo')\n",
    "\n",
    "    # labels the title and x, y axis of plot\n",
    "    fx.set_title(title + '\\n\\n');\n",
    "    fx.set_xlabel('Predicted Values')\n",
    "    fx.set_ylabel('Actual Values ');\n",
    "\n",
    "    # labels the boxes\n",
    "    fx.xaxis.set_ticklabels(['False','True'])\n",
    "    fx.yaxis.set_ticklabels(['False','True'])\n",
    "\n",
    "    plt.show()"
   ]
  },
  {
   "cell_type": "markdown",
   "id": "7db7607f",
   "metadata": {},
   "source": [
    "#### Confusion matrix and accuracy"
   ]
  },
  {
   "cell_type": "code",
   "execution_count": 27,
   "id": "a52be7b6",
   "metadata": {},
   "outputs": [
    {
     "name": "stderr",
     "output_type": "stream",
     "text": [
      "[Parallel(n_jobs=8)]: Using backend ThreadingBackend with 8 concurrent workers.\n",
      "[Parallel(n_jobs=8)]: Done  16 tasks      | elapsed:    1.3s\n",
      "[Parallel(n_jobs=8)]: Done 112 tasks      | elapsed:    7.8s\n",
      "[Parallel(n_jobs=8)]: Done 272 tasks      | elapsed:   18.9s\n",
      "[Parallel(n_jobs=8)]: Done 500 out of 500 | elapsed:   34.2s finished\n"
     ]
    },
    {
     "data": {
      "image/png": "[encoded data removed]",
      "text/plain": [
       "<Figure size 432x288 with 2 Axes>"
      ]
     },
     "metadata": {
      "needs_background": "light"
     },
     "output_type": "display_data"
    },
    {
     "name": "stderr",
     "output_type": "stream",
     "text": [
      "[Parallel(n_jobs=8)]: Using backend ThreadingBackend with 8 concurrent workers.\n",
      "[Parallel(n_jobs=8)]: Done  16 tasks      | elapsed:    1.2s\n",
      "[Parallel(n_jobs=8)]: Done 112 tasks      | elapsed:    7.8s\n",
      "[Parallel(n_jobs=8)]: Done 272 tasks      | elapsed:   18.9s\n",
      "[Parallel(n_jobs=8)]: Done 500 out of 500 | elapsed:   34.6s finished\n"
     ]
    },
    {
     "data": {
      "text/plain": [
       "0.8364222222222222"
      ]
     },
     "execution_count": 27,
     "metadata": {},
     "output_type": "execute_result"
    }
   ],
   "source": [
    "humor_preds = rf_best.predict(bigram_test)\n",
    "rf_cm = get_cm(humor_preds)\n",
    "plot_confusion_matrix(rf_cm, \"Random forest with bigrams\")\n",
    "rf_best.score(bigram_test, humor_test)"
   ]
  },
  {
   "cell_type": "markdown",
   "id": "29440e57",
   "metadata": {},
   "source": [
    "A random forest classifier on the humor data was fairly effective, getting an accuracy of `0.836`."
   ]
  },
  {
   "cell_type": "markdown",
   "id": "d41e7ba8",
   "metadata": {},
   "source": [
    "### Multilayer perceptron classifier\n",
    "#### Making the model"
   ]
  },
  {
   "cell_type": "code",
   "execution_count": 28,
   "id": "eab7f157",
   "metadata": {},
   "outputs": [],
   "source": [
    "from sklearn.neural_network import MLPClassifier\n",
    "mlpc = MLPClassifier(tol=.001, verbose=True)"
   ]
  },
  {
   "cell_type": "markdown",
   "id": "d06bcd59",
   "metadata": {},
   "source": [
    "#### Cross-validation"
   ]
  },
  {
   "cell_type": "code",
   "execution_count": null,
   "id": "1d6df991",
   "metadata": {},
   "outputs": [],
   "source": [
    "mlpc_params = {\n",
    "    \"alpha\": [.0001, .001, .01, .1]\n",
    "}\n",
    "print(\"Starting CV...\")\n",
    "mlpc_cv = GridSearchCV(mlpc, mlpc_params, verbose=3, n_jobs=8)\n",
    "mlpc_cv.fit(bigram_train, humor_train)"
   ]
  },
  {
   "cell_type": "code",
   "execution_count": 29,
   "id": "6f366761",
   "metadata": {},
   "outputs": [
    {
     "name": "stdout",
     "output_type": "stream",
     "text": [
      "Iteration 1, loss = 0.51404633\n",
      "Iteration 2, loss = 0.10966864\n",
      "Iteration 3, loss = 0.02148936\n",
      "Iteration 4, loss = 0.00953999\n",
      "Iteration 5, loss = 0.00579089\n",
      "Iteration 6, loss = 0.00409206\n",
      "Iteration 7, loss = 0.00316517\n",
      "Iteration 8, loss = 0.00259729\n",
      "Iteration 9, loss = 0.00222410\n",
      "Iteration 10, loss = 0.00196409\n",
      "Iteration 11, loss = 0.00177639\n",
      "Iteration 12, loss = 0.00163594\n",
      "Iteration 13, loss = 0.00152750\n",
      "Iteration 14, loss = 0.00144242\n",
      "Iteration 15, loss = 0.00137392\n",
      "Iteration 16, loss = 0.00131780\n",
      "Iteration 17, loss = 0.00127094\n",
      "Iteration 18, loss = 0.00123111\n",
      "Iteration 19, loss = 0.00119679\n",
      "Iteration 20, loss = 0.00116667\n",
      "Iteration 21, loss = 0.00113995\n",
      "Iteration 22, loss = 0.00111578\n",
      "Iteration 23, loss = 0.00109375\n",
      "Iteration 24, loss = 0.00107342\n",
      "Training loss did not improve more than tol=0.000100 for 10 consecutive epochs. Stopping.\n"
     ]
    },
    {
     "data": {
      "text/plain": [
       "MLPClassifier(verbose=True)"
      ]
     },
     "execution_count": 29,
     "metadata": {},
     "output_type": "execute_result"
    }
   ],
   "source": [
    "mlpc_best = MLPClassifier(verbose=True, alpha=.0001)\n",
    "mlpc_best.fit(bigram_train, humor_train)"
   ]
  },
  {
   "cell_type": "markdown",
   "id": "f783a4d3",
   "metadata": {},
   "source": [
    "Cross validation yielded a best regularization value of $\\alpha = 0.0001$."
   ]
  },
  {
   "cell_type": "markdown",
   "id": "e167e5ce",
   "metadata": {},
   "source": [
    "#### Confusion matrix and accuracy"
   ]
  },
  {
   "cell_type": "code",
   "execution_count": 30,
   "id": "46086c2c",
   "metadata": {},
   "outputs": [
    {
     "data": {
      "image/png": "[encoded data removed]",
      "text/plain": [
       "<Figure size 432x288 with 2 Axes>"
      ]
     },
     "metadata": {
      "needs_background": "light"
     },
     "output_type": "display_data"
    },
    {
     "data": {
      "text/plain": [
       "0.8868166666666667"
      ]
     },
     "execution_count": 30,
     "metadata": {},
     "output_type": "execute_result"
    }
   ],
   "source": [
    "humor_preds = mlpc_best.predict(bigram_test)\n",
    "mlpc_cm = get_cm(humor_preds)\n",
    "plot_confusion_matrix(mlpc_cm, \"Multilayer perceptron with bigrams\")\n",
    "mlpc_best.score(bigram_test, humor_test)"
   ]
  },
  {
   "cell_type": "markdown",
   "id": "576012b4",
   "metadata": {},
   "source": [
    "The multilayer perceptron classifier fared even better, getting an accuracy of `0.887` on the test data."
   ]
  },
  {
   "cell_type": "markdown",
   "id": "03e37c3e",
   "metadata": {},
   "source": [
    "### Retrying with trigrams\n",
    "#### Making the trigrams"
   ]
  },
  {
   "cell_type": "code",
   "execution_count": 31,
   "id": "2123b7cb",
   "metadata": {},
   "outputs": [],
   "source": [
    "trigram_vectorizer = CountVectorizer(ngram_range=(3,3))\n",
    "trigram_train = trigram_vectorizer.fit_transform(text_train)\n",
    "trigram_test = trigram_vectorizer.transform(text_test)"
   ]
  },
  {
   "cell_type": "markdown",
   "id": "2c4733ae",
   "metadata": {},
   "source": [
    "### Multilayer perceptron classifier with trigrams"
   ]
  },
  {
   "cell_type": "code",
   "execution_count": 32,
   "id": "a26288e4",
   "metadata": {},
   "outputs": [
    {
     "name": "stdout",
     "output_type": "stream",
     "text": [
      "Iteration 1, loss = 0.62092891\n",
      "Iteration 2, loss = 0.15968523\n",
      "Iteration 3, loss = 0.01999694\n",
      "Iteration 4, loss = 0.00870852\n",
      "Iteration 5, loss = 0.00553557\n",
      "Iteration 6, loss = 0.00404487\n",
      "Iteration 7, loss = 0.00321518\n",
      "Iteration 8, loss = 0.00270440\n",
      "Iteration 9, loss = 0.00236636\n",
      "Iteration 10, loss = 0.00213134\n",
      "Iteration 11, loss = 0.00196163\n",
      "Iteration 12, loss = 0.00183416\n",
      "Iteration 13, loss = 0.00173655\n",
      "Iteration 14, loss = 0.00165933\n",
      "Iteration 15, loss = 0.00159704\n",
      "Iteration 16, loss = 0.00154568\n",
      "Iteration 17, loss = 0.00150269\n",
      "Iteration 18, loss = 0.00146556\n",
      "Iteration 19, loss = 0.00143334\n",
      "Iteration 20, loss = 0.00140462\n",
      "Iteration 21, loss = 0.00137872\n",
      "Iteration 22, loss = 0.00135494\n",
      "Iteration 23, loss = 0.00133280\n",
      "Training loss did not improve more than tol=0.000100 for 10 consecutive epochs. Stopping.\n"
     ]
    },
    {
     "data": {
      "text/plain": [
       "MLPClassifier(verbose=True)"
      ]
     },
     "execution_count": 32,
     "metadata": {},
     "output_type": "execute_result"
    }
   ],
   "source": [
    "mlpc_best = MLPClassifier(verbose=True, alpha=.0001)\n",
    "mlpc_best.fit(trigram_train, humor_train)"
   ]
  },
  {
   "cell_type": "code",
   "execution_count": 33,
   "id": "33567834",
   "metadata": {},
   "outputs": [
    {
     "data": {
      "image/png": "[encoded data removed]",
      "text/plain": [
       "<Figure size 432x288 with 2 Axes>"
      ]
     },
     "metadata": {
      "needs_background": "light"
     },
     "output_type": "display_data"
    },
    {
     "data": {
      "text/plain": [
       "0.7737666666666667"
      ]
     },
     "execution_count": 33,
     "metadata": {},
     "output_type": "execute_result"
    }
   ],
   "source": [
    "humor_preds = mlpc_best.predict(trigram_test)\n",
    "mlpc_cm = get_cm(humor_preds)\n",
    "plot_confusion_matrix(mlpc_cm, \"Multilayer perceptron with trigrams\")\n",
    "mlpc_best.score(trigram_test, humor_test)"
   ]
  },
  {
   "cell_type": "markdown",
   "id": "fbdbd817",
   "metadata": {},
   "source": [
    "Interestingly, the MLP classifier performed significantly worse when trained on trigrams, giving an accuracy of `0.774`. Note, however, that it's performance on fake disaster tweets was excellent, while its performance on true disaster tweets was only slightly better than chance."
   ]
  },
  {
   "cell_type": "markdown",
   "id": "bcaf4ecc",
   "metadata": {},
   "source": []
  }
 ],
 "metadata": {
  "kernelspec": {
   "display_name": "Python 3 (ipykernel)",
   "language": "python",
   "name": "python3"
  },
  "language_info": {
   "codemirror_mode": {
    "name": "ipython",
    "version": 3
   },
   "file_extension": ".py",
   "mimetype": "text/x-python",
   "name": "python",
   "nbconvert_exporter": "python",
   "pygments_lexer": "ipython3",
   "version": "3.10.2"
  }
 },
 "nbformat": 4,
 "nbformat_minor": 5
}
